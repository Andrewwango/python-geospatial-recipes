{
 "cells": [
  {
   "cell_type": "markdown",
   "metadata": {
    "application/vnd.databricks.v1+cell": {
     "cellMetadata": {},
     "inputWidgets": {},
     "nuid": "76b4fba8-2fcd-4c2b-a9f5-5e45d5f4926f",
     "showTitle": false,
     "title": ""
    }
   },
   "source": [
    "# Raster resampling processing task\n",
    "\n",
    "In this notebook, we will demonstrate resampling i.e. interpolating a raster dataset to a given different coordinate grid at a different resolution, with `scipy`. We will plot the raster layer using `folium`.\n",
    "\n",
    "This is useful when you are doing a spatial join on 2 rasters which are defined on different grids - you will need to resample one raster onto the other's grid.\n",
    "\n",
    "Datasets used:\n",
    "\n",
    "- UK gridded 2000 population density data from [CIESIN](https://sedac.ciesin.columbia.edu/data/collection/gpw-v4), downloaded for the UK from [DIVA-GIS](http://www.diva-gis.org/gdata). Converted to geotiff using QGIS. Data resolution at roughly ~2.5km. The raster origin is at `lon,lat=-8.266667,60.93333` (top left, EPSG:4326) and the grid is 458x500."
   ]
  },
  {
   "cell_type": "markdown",
   "metadata": {
    "application/vnd.databricks.v1+cell": {
     "cellMetadata": {},
     "inputWidgets": {},
     "nuid": "2ce5f9fd-1dce-4c9a-b127-721e132b220a",
     "showTitle": false,
     "title": ""
    }
   },
   "source": [
    "## 0. Install Python packages"
   ]
  },
  {
   "cell_type": "code",
   "execution_count": null,
   "metadata": {},
   "outputs": [],
   "source": [
    "!pip install numpy folium rasterio scipy"
   ]
  },
  {
   "cell_type": "markdown",
   "metadata": {
    "application/vnd.databricks.v1+cell": {
     "cellMetadata": {},
     "inputWidgets": {},
     "nuid": "6f5a9428-fa84-40a8-8c63-15d5f9b05ded",
     "showTitle": false,
     "title": ""
    }
   },
   "source": [
    "## 1. Load data\n",
    "\n",
    "First connect Databricks to your datalake."
   ]
  },
  {
   "cell_type": "code",
   "execution_count": null,
   "metadata": {},
   "outputs": [],
   "source": [
    "datalake = \"/dbfs/mnt/copgeospatial\""
   ]
  },
  {
   "cell_type": "code",
   "execution_count": null,
   "metadata": {},
   "outputs": [],
   "source": [
    "import numpy as np\n",
    "import rasterio"
   ]
  },
  {
   "cell_type": "code",
   "execution_count": null,
   "metadata": {},
   "outputs": [],
   "source": [
    "dataset = rasterio.open(f\"{datalake}/gbr_pop.tif\")"
   ]
  },
  {
   "cell_type": "code",
   "execution_count": null,
   "metadata": {},
   "outputs": [],
   "source": [
    "bounds = dataset.bounds\n",
    "# BoundingBox(left=-8.266667, bottom=49.899995, right=1.8416677999999997, top=60.93333)"
   ]
  },
  {
   "cell_type": "code",
   "execution_count": null,
   "metadata": {},
   "outputs": [],
   "source": [
    "dataset.shape\n",
    "# (500, 458)"
   ]
  },
  {
   "cell_type": "code",
   "execution_count": null,
   "metadata": {},
   "outputs": [],
   "source": [
    "population = dataset.read(1)"
   ]
  },
  {
   "cell_type": "markdown",
   "metadata": {
    "application/vnd.databricks.v1+cell": {
     "cellMetadata": {},
     "inputWidgets": {},
     "nuid": "46f159d4-2b35-4cbb-99a6-c1ee771c070e",
     "showTitle": false,
     "title": ""
    },
    "tags": []
   },
   "source": [
    "## 2. Process data"
   ]
  },
  {
   "cell_type": "markdown",
   "metadata": {
    "application/vnd.databricks.v1+cell": {
     "cellMetadata": {},
     "inputWidgets": {},
     "nuid": "7496cef3-d73b-4123-8078-4dbe3262cd10",
     "showTitle": false,
     "title": ""
    }
   },
   "source": [
    "Get original grid coordinates"
   ]
  },
  {
   "cell_type": "code",
   "execution_count": null,
   "metadata": {},
   "outputs": [],
   "source": [
    "orig_mgrid = np.meshgrid(*map(np.arange, dataset.shape))\n",
    "\n",
    "orig_grid = np.vstack(tuple(map(\n",
    "    np.ravel, \n",
    "    map(\n",
    "        np.array, \n",
    "        rasterio.transform.xy(dataset.transform, *orig_mgrid)\n",
    "    )\n",
    "))).T\n",
    "\n",
    "orig_grid.shape\n",
    "# (229000, 2)"
   ]
  },
  {
   "cell_type": "markdown",
   "metadata": {
    "application/vnd.databricks.v1+cell": {
     "cellMetadata": {},
     "inputWidgets": {},
     "nuid": "214e31e6-79d2-4b8b-a10a-c46e6906deb1",
     "showTitle": false,
     "title": ""
    }
   },
   "source": [
    "Define a completely new grid to resample onto, with resolution of thirty [seconds](https://en.wikipedia.org/wiki/Degree_(angle)#Subdivisions) (~1km):"
   ]
  },
  {
   "cell_type": "code",
   "execution_count": null,
   "metadata": {},
   "outputs": [],
   "source": [
    "THIRTY_SECONDS = 0.0083333333333333\n",
    "\n",
    "new_mgrid = np.mgrid[bounds.left:bounds.right:THIRTY_SECONDS, bounds.bottom:bounds.top:THIRTY_SECONDS]\n",
    "\n",
    "new_grid = np.vstack(tuple(map(\n",
    "    np.ravel,\n",
    "    new_mgrid\n",
    "))).T\n",
    "\n",
    "new_grid.shape\n",
    "# (1608550, 2)"
   ]
  },
  {
   "cell_type": "markdown",
   "metadata": {
    "application/vnd.databricks.v1+cell": {
     "cellMetadata": {},
     "inputWidgets": {},
     "nuid": "93aed30d-4a1a-4c65-b9e8-943c32ea6229",
     "showTitle": false,
     "title": ""
    }
   },
   "source": [
    "Resample raster onto new grid using `scipy`"
   ]
  },
  {
   "cell_type": "code",
   "execution_count": null,
   "metadata": {},
   "outputs": [],
   "source": [
    "from scipy.interpolate import griddata"
   ]
  },
  {
   "cell_type": "code",
   "execution_count": null,
   "metadata": {},
   "outputs": [],
   "source": [
    "population_resampled = griddata(\n",
    "    orig_grid, \n",
    "    np.where(population == -9999, np.nan, population).ravel(order='F'), # column-first ravel\n",
    "    new_grid,\n",
    "    method='linear'\n",
    ")"
   ]
  },
  {
   "cell_type": "code",
   "execution_count": null,
   "metadata": {},
   "outputs": [],
   "source": [
    "population_resampled = np.nan_to_num(\n",
    "    population_resampled.reshape(*new_mgrid.shape[1:]), \n",
    "    nan=-9999\n",
    ")"
   ]
  },
  {
   "cell_type": "markdown",
   "metadata": {
    "application/vnd.databricks.v1+cell": {
     "cellMetadata": {},
     "inputWidgets": {},
     "nuid": "bfde552f-6257-46db-abb8-e58ed76011b4",
     "showTitle": false,
     "title": ""
    }
   },
   "source": [
    "## 3. Visualise data on map\n",
    "\n",
    "We use a custom colormap to deal with `nodata` values. We also must use `mercator_project=True` to reproject our raster into the map's underlying CRS."
   ]
  },
  {
   "cell_type": "code",
   "execution_count": null,
   "metadata": {},
   "outputs": [],
   "source": [
    "import folium\n",
    "def colormap_func(maxi, nodata=-9999):\n",
    "    return lambda x: (1,0,0,0 if x == nodata else max(0, x / maxi))"
   ]
  },
  {
   "cell_type": "code",
   "execution_count": null,
   "metadata": {},
   "outputs": [],
   "source": [
    "m = folium.Map(location=[54.44, -3.5], zoom_start=12, tiles=\"CartoDB positron\")\n",
    "\n",
    "folium.raster_layers.ImageOverlay(\n",
    "    population,\n",
    "    ((bounds.bottom, bounds.left), (bounds.top, bounds.right)),\n",
    "    colormap=colormap_func(population.max()),\n",
    "    mercator_project=True\n",
    ").add_to(m)\n",
    "\n",
    "folium.LayerControl().add_to(m)\n",
    "m.fit_bounds(m.get_bounds()) "
   ]
  },
  {
   "cell_type": "code",
   "execution_count": null,
   "metadata": {},
   "outputs": [],
   "source": [
    "m1 = folium.Map(location=[54.44, -3.5], zoom_start=12, tiles=\"CartoDB positron\")\n",
    "\n",
    "folium.raster_layers.ImageOverlay(\n",
    "    np.flipud(population_resampled.T),\n",
    "    ((bounds.bottom, bounds.left), (bounds.top, bounds.right)),\n",
    "    colormap=colormap_func(population_resampled.max()),\n",
    "    mercator_project=True\n",
    ").add_to(m1)\n",
    "\n",
    "folium.LayerControl().add_to(m1)\n",
    "m1.fit_bounds(m1.get_bounds()) "
   ]
  },
  {
   "cell_type": "code",
   "execution_count": null,
   "metadata": {},
   "outputs": [],
   "source": [
    "m.save('/dbfs/mnt/copgeospatial/05_output.html')\n",
    "m1.save('/dbfs/mnt/copgeospatial/05_output_1.html')"
   ]
  },
  {
   "cell_type": "markdown",
   "metadata": {
    "application/vnd.databricks.v1+cell": {
     "cellMetadata": {},
     "inputWidgets": {},
     "nuid": "60e322f7-49b1-494d-bd22-181fbfeb4a9d",
     "showTitle": false,
     "title": ""
    },
    "tags": []
   },
   "source": [
    "### Display map"
   ]
  },
  {
   "cell_type": "markdown",
   "metadata": {
    "application/vnd.databricks.v1+cell": {
     "cellMetadata": {},
     "inputWidgets": {},
     "nuid": "a3af26cd-6c7e-4e8c-b931-17112ecc07fc",
     "showTitle": false,
     "title": ""
    }
   },
   "source": [
    "Original raster of population on ~2.5km grid"
   ]
  },
  {
   "cell_type": "code",
   "execution_count": 3,
   "metadata": {},
   "outputs": [
    {
     "data": {
      "text/html": [
       "\n",
       "        <iframe\n",
       "            width=\"100%\"\n",
       "            height=\"500\"\n",
       "            src=\"05_output.html\"\n",
       "            frameborder=\"0\"\n",
       "            allowfullscreen\n",
       "            \n",
       "        ></iframe>\n",
       "        "
      ],
      "text/plain": [
       "<IPython.lib.display.IFrame at 0x104a000d0>"
      ]
     },
     "execution_count": 3,
     "metadata": {},
     "output_type": "execute_result"
    }
   ],
   "source": [
    "from IPython.display import IFrame\n",
    "IFrame(\"05_output.html\", width=\"100%\", height=\"500\")"
   ]
  },
  {
   "cell_type": "markdown",
   "metadata": {
    "application/vnd.databricks.v1+cell": {
     "cellMetadata": {},
     "inputWidgets": {},
     "nuid": "6dac4ceb-999d-4597-8f11-7554ee88befe",
     "showTitle": false,
     "title": ""
    }
   },
   "source": [
    "Resampled raster on ~1km grid"
   ]
  },
  {
   "cell_type": "code",
   "execution_count": 4,
   "metadata": {},
   "outputs": [
    {
     "data": {
      "text/html": [
       "\n",
       "        <iframe\n",
       "            width=\"100%\"\n",
       "            height=\"500\"\n",
       "            src=\"05_output_1.html\"\n",
       "            frameborder=\"0\"\n",
       "            allowfullscreen\n",
       "            \n",
       "        ></iframe>\n",
       "        "
      ],
      "text/plain": [
       "<IPython.lib.display.IFrame at 0x104a03950>"
      ]
     },
     "execution_count": 4,
     "metadata": {},
     "output_type": "execute_result"
    }
   ],
   "source": [
    "IFrame(\"05_output_1.html\", width=\"100%\", height=\"500\")"
   ]
  },
  {
   "cell_type": "code",
   "execution_count": null,
   "metadata": {},
   "outputs": [],
   "source": []
  }
 ],
 "metadata": {
  "language_info": {
   "name": "python"
  }
 },
 "nbformat": 4,
 "nbformat_minor": 4
}
