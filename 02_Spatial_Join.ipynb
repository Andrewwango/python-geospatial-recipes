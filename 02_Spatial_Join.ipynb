{
 "cells": [
  {
   "cell_type": "markdown",
   "metadata": {
    "application/vnd.databricks.v1+cell": {
     "cellMetadata": {},
     "inputWidgets": {},
     "nuid": "76b4fba8-2fcd-4c2b-a9f5-5e45d5f4926f",
     "showTitle": false,
     "title": ""
    }
   },
   "source": [
    "# Vector spatial join processing task\n",
    "\n",
    "In this notebook, we will demonstrate joining a vector layer of points to another vector layer containing a road network using nearest neighbours. \n",
    "\n",
    "In many transport logistics problems, locations to be visited first need to be snapped to the road network. Here, a power company needs to find the closest road to each power substation in order to find a route in the road network.\n",
    "\n",
    "Datasets used:\n",
    "\n",
    "- [Ordnance Survey Open Roads](https://beta.ordnancesurvey.co.uk/products/os-open-roads) - road links filtered to the SP 100x100km grid square `51.724598,-2.001086,52.58593,-0.52677` roughly including half of Birmingham, Coventry, Oxford and Milton Keynes. Converted to EPSG:4326 and to `geojson` resulting in ~183 MB.\n",
    "- [OpenStreetMap power substations](https://wiki.openstreetmap.org/wiki/Tag:power%3Dsubstation) in SP grid downloaded using the [API](https://overpass-turbo.eu/) using the query `node[power=substation](51.724598,-2.001086,52.58593,-0.52677);out;`. < 1 MB"
   ]
  },
  {
   "cell_type": "markdown",
   "metadata": {
    "application/vnd.databricks.v1+cell": {
     "cellMetadata": {},
     "inputWidgets": {},
     "nuid": "2ce5f9fd-1dce-4c9a-b127-721e132b220a",
     "showTitle": false,
     "title": ""
    }
   },
   "source": [
    "## 0. Install Python packages"
   ]
  },
  {
   "cell_type": "code",
   "execution_count": null,
   "metadata": {},
   "outputs": [],
   "source": [
    "!pip install geopandas folium"
   ]
  },
  {
   "cell_type": "markdown",
   "metadata": {
    "application/vnd.databricks.v1+cell": {
     "cellMetadata": {},
     "inputWidgets": {},
     "nuid": "6f5a9428-fa84-40a8-8c63-15d5f9b05ded",
     "showTitle": false,
     "title": ""
    }
   },
   "source": [
    "## 1. Load data\n",
    "\n",
    "First connect Databricks to your datalake."
   ]
  },
  {
   "cell_type": "code",
   "execution_count": null,
   "metadata": {},
   "outputs": [],
   "source": [
    "datalake = \"/dbfs/mnt/copgeospatial\""
   ]
  },
  {
   "cell_type": "code",
   "execution_count": null,
   "metadata": {},
   "outputs": [],
   "source": [
    "import pandas as pd \n",
    "import geopandas as gpd"
   ]
  },
  {
   "cell_type": "markdown",
   "metadata": {
    "application/vnd.databricks.v1+cell": {
     "cellMetadata": {},
     "inputWidgets": {},
     "nuid": "22dc3ecd-c748-4ed0-804a-8a8116eae10c",
     "showTitle": false,
     "title": ""
    }
   },
   "source": [
    "Roads dataset `geodataframe`. Geometry is `LineString`, 255946 rows. Columns include `gml_id` (primary key), along with road details such as `roadClassification`, `roadFunction`, `formOfWay`, `length`."
   ]
  },
  {
   "cell_type": "code",
   "execution_count": null,
   "metadata": {},
   "outputs": [],
   "source": [
    "gdf_roads = gpd.read_file(f\"{datalake}/OS_OpenRoads_SP_RoadLink_4326.geojson\")\n",
    "gdf_roads.head()"
   ]
  },
  {
   "cell_type": "markdown",
   "metadata": {
    "application/vnd.databricks.v1+cell": {
     "cellMetadata": {},
     "inputWidgets": {},
     "nuid": "411c39fa-27cc-45af-be3f-79aa2f3eadf5",
     "showTitle": false,
     "title": ""
    }
   },
   "source": [
    "Power substations `geodataframe`. Geometry is `Point`, 1238 rows. Columns include `id` (primary key), and OpenStreetMap tags for substations such as `name`, `operator`, `voltage` etc."
   ]
  },
  {
   "cell_type": "code",
   "execution_count": null,
   "metadata": {},
   "outputs": [],
   "source": [
    "gdf_substations = gpd.read_file(f\"{datalake}/SP_Power_Substations.geojson\")\n",
    "gdf_substations.head()"
   ]
  },
  {
   "cell_type": "markdown",
   "metadata": {
    "application/vnd.databricks.v1+cell": {
     "cellMetadata": {},
     "inputWidgets": {},
     "nuid": "46f159d4-2b35-4cbb-99a6-c1ee771c070e",
     "showTitle": false,
     "title": ""
    }
   },
   "source": [
    "## 2. Process data\n",
    "\n",
    "Perform a spatial join using native [geopandas](https://geopandas.org/en/latest/docs/user_guide/mergingdata.html#spatial-joins) methods. Note that because the UK is small, we can approximately perform planar distance calculations despite both `geodataframe`s being in an unprojected geographic CRS `EPSG:4326`. To do this, we can convert a distance in metres to a degree \"distance\" by dividing by `R * pi / 180` where `R=6371000` is the radius of the Earth."
   ]
  },
  {
   "cell_type": "code",
   "execution_count": null,
   "metadata": {},
   "outputs": [],
   "source": [
    "gdf_roads_substations = gdf_substations.sjoin_nearest(\n",
    "    gdf_roads, \n",
    "    how=\"left\",\n",
    "    max_distance=100/111195 #100 metres in units of degrees\n",
    ").merge(\n",
    "    gdf_roads, \n",
    "    on=\"gml_id\", \n",
    "    suffixes=(\"_delete\", None)\n",
    ")"
   ]
  },
  {
   "cell_type": "markdown",
   "metadata": {
    "application/vnd.databricks.v1+cell": {
     "cellMetadata": {},
     "inputWidgets": {},
     "nuid": "bfde552f-6257-46db-abb8-e58ed76011b4",
     "showTitle": false,
     "title": ""
    }
   },
   "source": [
    "## 3. Visualise data on map"
   ]
  },
  {
   "cell_type": "code",
   "execution_count": null,
   "metadata": {},
   "outputs": [],
   "source": [
    "import folium"
   ]
  },
  {
   "cell_type": "code",
   "execution_count": null,
   "metadata": {},
   "outputs": [],
   "source": [
    "m = folium.Map(location=[54.44, -3.5], width=500, height=750, zoom_start=12, tiles=\"CartoDB positron\")\n",
    "\n",
    "m = gdf_roads_substations.explore(\n",
    "    m=m,\n",
    "    tooltip=[\"gml_id\", \"roadFunction\", \"formOfWay\", \"length\"]\n",
    ")\n",
    "\n",
    "for i, row in gdf_substations.iterrows():\n",
    "    folium.Circle(\n",
    "        location=(row.geometry.y, row.geometry.x), \n",
    "        radius=30, \n",
    "        color=\"crimson\",\n",
    "        fill=True,\n",
    "        tooltip=f\"Substation name {row['name']}\"\n",
    "    ).add_to(m)\n",
    "\n",
    "folium.LayerControl().add_to(m)\n",
    "m.fit_bounds(m.get_bounds()) "
   ]
  },
  {
   "cell_type": "code",
   "execution_count": null,
   "metadata": {},
   "outputs": [],
   "source": [
    "m"
   ]
  },
  {
   "cell_type": "code",
   "execution_count": null,
   "metadata": {},
   "outputs": [],
   "source": [
    "m.save('/dbfs/mnt/copgeospatial/02_output.html')"
   ]
  },
  {
   "cell_type": "markdown",
   "metadata": {
    "application/vnd.databricks.v1+cell": {
     "cellMetadata": {},
     "inputWidgets": {},
     "nuid": "60e322f7-49b1-494d-bd22-181fbfeb4a9d",
     "showTitle": false,
     "title": ""
    },
    "tags": []
   },
   "source": [
    "### Display map"
   ]
  },
  {
   "cell_type": "code",
   "execution_count": 1,
   "metadata": {},
   "outputs": [
    {
     "data": {
      "text/html": [
       "\n",
       "        <iframe\n",
       "            width=\"100%\"\n",
       "            height=\"700\"\n",
       "            src=\"02_output.html\"\n",
       "            frameborder=\"0\"\n",
       "            allowfullscreen\n",
       "            \n",
       "        ></iframe>\n",
       "        "
      ],
      "text/plain": [
       "<IPython.lib.display.IFrame at 0x106d8fcd0>"
      ]
     },
     "execution_count": 1,
     "metadata": {},
     "output_type": "execute_result"
    }
   ],
   "source": [
    "from IPython.display import IFrame\n",
    "IFrame(\"02_output.html\", width=\"100%\", height=\"700\")"
   ]
  }
 ],
 "metadata": {
  "language_info": {
   "name": "python"
  }
 },
 "nbformat": 4,
 "nbformat_minor": 4
}
