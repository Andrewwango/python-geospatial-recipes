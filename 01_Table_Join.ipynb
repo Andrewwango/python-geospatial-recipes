{
 "cells": [
  {
   "cell_type": "markdown",
   "metadata": {
    "application/vnd.databricks.v1+cell": {
     "cellMetadata": {},
     "inputWidgets": {},
     "nuid": "76b4fba8-2fcd-4c2b-a9f5-5e45d5f4926f",
     "showTitle": false,
     "title": ""
    }
   },
   "source": [
    "# Table join processing task\n",
    "\n",
    "In this notebook, we will demonstrate joining a table of internet users per NUTS area with UK local authority polygons.\n",
    "\n",
    "Datasets used:\n",
    "\n",
    "- Office of National Statistics [Internet users by NUTS code](https://www.ons.gov.uk/file?uri=/businessindustryandtrade/itandinternetindustry/datasets/internetusers/current/internetusers2020.xlsx)\n",
    "- [NUTS Code conversions](https://geoportal.statistics.gov.uk/datasets/ons::local-authority-district-december-2016-to-nuts3-to-nuts2-to-nuts1-january-2018-lookup-in-united-kingdom-1/explore)\n",
    "- [UK authority polygon shapefiles](https://geoportal.statistics.gov.uk/datasets/e204895bba5646a486da29b5ed382db1_0/explore)"
   ]
  },
  {
   "cell_type": "markdown",
   "metadata": {
    "application/vnd.databricks.v1+cell": {
     "cellMetadata": {},
     "inputWidgets": {},
     "nuid": "2ce5f9fd-1dce-4c9a-b127-721e132b220a",
     "showTitle": false,
     "title": ""
    }
   },
   "source": [
    "## 0. Install Python packages"
   ]
  },
  {
   "cell_type": "code",
   "execution_count": null,
   "metadata": {},
   "outputs": [],
   "source": [
    "!pip install geopandas folium"
   ]
  },
  {
   "cell_type": "markdown",
   "metadata": {
    "application/vnd.databricks.v1+cell": {
     "cellMetadata": {},
     "inputWidgets": {},
     "nuid": "6f5a9428-fa84-40a8-8c63-15d5f9b05ded",
     "showTitle": false,
     "title": ""
    }
   },
   "source": [
    "## 1. Load data\n",
    "\n",
    "First connect Databricks to your datalake."
   ]
  },
  {
   "cell_type": "code",
   "execution_count": null,
   "metadata": {},
   "outputs": [],
   "source": [
    "datalake = \"/dbfs/mnt/copgeospatial\""
   ]
  },
  {
   "cell_type": "code",
   "execution_count": null,
   "metadata": {},
   "outputs": [],
   "source": [
    "import pandas as pd \n",
    "import geopandas as gpd"
   ]
  },
  {
   "cell_type": "markdown",
   "metadata": {
    "application/vnd.databricks.v1+cell": {
     "cellMetadata": {},
     "inputWidgets": {},
     "nuid": "4119eef5-c6f1-4367-adad-2f62a9cff411",
     "showTitle": false,
     "title": ""
    }
   },
   "source": [
    "Internet users by NUTS code"
   ]
  },
  {
   "cell_type": "code",
   "execution_count": null,
   "metadata": {},
   "outputs": [],
   "source": [
    "df_internet = pd.read_csv(f\"{datalake}/internetusers2020_updt.csv\")\n",
    "\n",
    "df_internet.columns = [\n",
    "    \"NUTS_Code\", \"Region_Name\", \n",
    "    \"2014\", \"2015\", \"2016\", \"2017\", \"2018\", \"2019\", \"2020\"\n",
    "]\n",
    "df_internet.head()"
   ]
  },
  {
   "cell_type": "markdown",
   "metadata": {
    "application/vnd.databricks.v1+cell": {
     "cellMetadata": {},
     "inputWidgets": {},
     "nuid": "c484d5b1-a213-4050-8392-1f0248d7abbc",
     "showTitle": false,
     "title": ""
    }
   },
   "source": [
    "NUTS to local administrative unit conversion (columns `LAU118CD`, `NUTS318CD`):"
   ]
  },
  {
   "cell_type": "code",
   "execution_count": null,
   "metadata": {},
   "outputs": [],
   "source": [
    "df_nuts = pd.read_csv(f\"{datalake}/LAU2_to_LAU1_to_NUTS3_to_NUTS2_to_NUTS1_(December_2018)_Lookup_in_United_Kingdom.csv\") \\\n",
    "\n",
    "df_nuts = df_nuts[[\"LAU118CD\", \"NUTS318CD\"]].drop_duplicates()\n",
    "df_nuts.sort_values(by=\"NUTS318CD\").head()"
   ]
  },
  {
   "cell_type": "markdown",
   "metadata": {
    "application/vnd.databricks.v1+cell": {
     "cellMetadata": {},
     "inputWidgets": {},
     "nuid": "22dc3ecd-c748-4ed0-804a-8a8116eae10c",
     "showTitle": false,
     "title": ""
    }
   },
   "source": [
    "UK region shapefiles stored in a `geodataframe` (with `geometry` column):"
   ]
  },
  {
   "cell_type": "code",
   "execution_count": null,
   "metadata": {},
   "outputs": [],
   "source": [
    "gdf = gpd.read_file(f\"{datalake}/Counties_and_Unitary_Authorities_(December_2022)_UK_BFC/Counties_and_Unitary_Authorities_(December_2022)_UK_BFC.shp\")\n",
    "gdf.head()"
   ]
  },
  {
   "cell_type": "markdown",
   "metadata": {
    "application/vnd.databricks.v1+cell": {
     "cellMetadata": {},
     "inputWidgets": {},
     "nuid": "46f159d4-2b35-4cbb-99a6-c1ee771c070e",
     "showTitle": false,
     "title": ""
    }
   },
   "source": [
    "## 2. Process data\n",
    "\n",
    "Merge 3 datasets: local authority vector polygons, NUTS codes and internet users per NUTS code:"
   ]
  },
  {
   "cell_type": "code",
   "execution_count": null,
   "metadata": {},
   "outputs": [],
   "source": [
    "df_merged = df_internet \\\n",
    "    .merge(df_nuts, left_on=\"NUTS_Code\", right_on=\"NUTS318CD\", how=\"left\") \\\n",
    "    .merge(gdf, left_on=\"LAU118CD\", right_on=\"CTYUA22CD\", how=\"right\")\n",
    "\n",
    "df_merged = df_merged[[\n",
    "    'Region_Name', '2014', '2015', '2016', '2017', '2018', '2019', '2020',\n",
    "    'LAU118CD', 'Shape__Are', 'Shape__Len', 'GlobalID', 'geometry'\n",
    "]].astype(str)"
   ]
  },
  {
   "cell_type": "markdown",
   "metadata": {
    "application/vnd.databricks.v1+cell": {
     "cellMetadata": {},
     "inputWidgets": {},
     "nuid": "7c7f7d7c-747c-4cad-8ea1-fd4ed2cdfc06",
     "showTitle": false,
     "title": ""
    }
   },
   "source": [
    "Convert the merged `dataframe` to a `geodataframe`:"
   ]
  },
  {
   "cell_type": "code",
   "execution_count": null,
   "metadata": {},
   "outputs": [],
   "source": [
    "from shapely.wkt import loads"
   ]
  },
  {
   "cell_type": "code",
   "execution_count": null,
   "metadata": {},
   "outputs": [],
   "source": [
    "df_merged['GlobalID'] = df_merged['GlobalID'].apply(lambda x: str(x))\n",
    "df_merged['2020']     = df_merged['2020'    ].apply(lambda x: float(x))\n",
    "df_merged['geometry'] = df_merged['geometry'].apply(loads)"
   ]
  },
  {
   "cell_type": "code",
   "execution_count": null,
   "metadata": {},
   "outputs": [],
   "source": [
    "gdf_merged = gpd.GeoDataFrame(df_merged, geometry='geometry').set_crs('epsg:27700')"
   ]
  },
  {
   "cell_type": "markdown",
   "metadata": {
    "application/vnd.databricks.v1+cell": {
     "cellMetadata": {
      "byteLimit": 2048000,
      "rowLimit": 10000
     },
     "inputWidgets": {},
     "nuid": "8f884353-7edf-417e-ae58-b06b0f56efa5",
     "showTitle": false,
     "title": ""
    }
   },
   "source": [
    "Simplify geometries for faster plotting and convert CRS for plotting on top of world maps:"
   ]
  },
  {
   "cell_type": "code",
   "execution_count": null,
   "metadata": {},
   "outputs": [],
   "source": [
    "gdf_merged[\"geometry\"] = gdf_merged[\"geometry\"].simplify(tolerance=100, preserve_topology=False)"
   ]
  },
  {
   "cell_type": "code",
   "execution_count": null,
   "metadata": {},
   "outputs": [],
   "source": [
    "gdf_merged = gdf_merged.to_crs(epsg=4326)"
   ]
  },
  {
   "cell_type": "markdown",
   "metadata": {
    "application/vnd.databricks.v1+cell": {
     "cellMetadata": {},
     "inputWidgets": {},
     "nuid": "bfde552f-6257-46db-abb8-e58ed76011b4",
     "showTitle": false,
     "title": ""
    }
   },
   "source": [
    "## 3. Visualise data on map"
   ]
  },
  {
   "cell_type": "code",
   "execution_count": 1,
   "metadata": {},
   "outputs": [],
   "source": [
    "import folium"
   ]
  },
  {
   "cell_type": "code",
   "execution_count": null,
   "metadata": {},
   "outputs": [],
   "source": [
    "m = folium.Map(location=[54.44, -3.5], width=500, height=750, zoom_start=12, tiles=\"CartoDB positron\")\n",
    "\n",
    "layer = folium.Choropleth(\n",
    "    geo_data = gpd.GeoSeries(gdf_merged.set_index(\"GlobalID\")['geometry']).to_json(),\n",
    "    name=\"Choropleth\",\n",
    "    data=gdf_merged,\n",
    "    key_on='feature.id',\n",
    "    columns=['GlobalID', '2020'],\n",
    "    bins=[0, 50, 150, 250, 300, 550, 1000],\n",
    "    fill_color='YlGnBu',\n",
    "    fill_opacity=0.5,\n",
    "    line_opacity=1.0,\n",
    "    legend_name='Internet Users in millions').add_to(m)\n",
    "\n",
    "folium.LayerControl().add_to(m)\n",
    "m.fit_bounds(layer.get_bounds()) "
   ]
  },
  {
   "cell_type": "code",
   "execution_count": null,
   "metadata": {},
   "outputs": [],
   "source": [
    "m.save('/dbfs/mnt/copgeospatial/01_output.html')"
   ]
  },
  {
   "cell_type": "markdown",
   "metadata": {
    "tags": []
   },
   "source": [
    "### Display map"
   ]
  },
  {
   "cell_type": "code",
   "execution_count": 1,
   "metadata": {},
   "outputs": [
    {
     "data": {
      "text/html": [
       "\n",
       "        <iframe\n",
       "            width=\"100%\"\n",
       "            height=\"700\"\n",
       "            src=\"01_output.html\"\n",
       "            frameborder=\"0\"\n",
       "            allowfullscreen\n",
       "            \n",
       "        ></iframe>\n",
       "        "
      ],
      "text/plain": [
       "<IPython.lib.display.IFrame at 0x11249f5d0>"
      ]
     },
     "execution_count": 1,
     "metadata": {},
     "output_type": "execute_result"
    }
   ],
   "source": [
    "from IPython.display import IFrame\n",
    "IFrame(\"01_output.html\", width=\"100%\", height=\"700\")"
   ]
  },
  {
   "cell_type": "code",
   "execution_count": null,
   "metadata": {},
   "outputs": [],
   "source": []
  }
 ],
 "metadata": {
  "kernelspec": {
   "display_name": "Python 3 (ipykernel)",
   "language": "python",
   "name": "python3"
  },
  "language_info": {
   "codemirror_mode": {
    "name": "ipython",
    "version": 3
   },
   "file_extension": ".py",
   "mimetype": "text/x-python",
   "name": "python",
   "nbconvert_exporter": "python",
   "pygments_lexer": "ipython3",
   "version": "3.11.2"
  }
 },
 "nbformat": 4,
 "nbformat_minor": 4
}
